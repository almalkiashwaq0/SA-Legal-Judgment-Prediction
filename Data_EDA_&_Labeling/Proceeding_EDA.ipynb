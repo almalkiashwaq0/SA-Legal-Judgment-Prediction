{
  "cells": [
    {
      "cell_type": "code",
      "execution_count": null,
      "metadata": {
        "id": "jYFD8C69HRaH"
      },
      "outputs": [],
      "source": [
        "import pandas as pd\n",
        "import re"
      ]
    },
    {
      "cell_type": "code",
      "execution_count": null,
      "metadata": {
        "id": "vxAhK4LmHRaI",
        "outputId": "6f47cfdc-eeae-4e10-d524-a4a563084477"
      },
      "outputs": [
        {
          "data": {
            "text/html": [
              "<div>\n",
              "<style scoped>\n",
              "    .dataframe tbody tr th:only-of-type {\n",
              "        vertical-align: middle;\n",
              "    }\n",
              "\n",
              "    .dataframe tbody tr th {\n",
              "        vertical-align: top;\n",
              "    }\n",
              "\n",
              "    .dataframe thead th {\n",
              "        text-align: right;\n",
              "    }\n",
              "</style>\n",
              "<table border=\"1\" class=\"dataframe\">\n",
              "  <thead>\n",
              "    <tr style=\"text-align: right;\">\n",
              "      <th></th>\n",
              "      <th>Number</th>\n",
              "      <th>Date</th>\n",
              "      <th>City</th>\n",
              "      <th>Fact</th>\n",
              "      <th>URL</th>\n",
              "    </tr>\n",
              "  </thead>\n",
              "  <tbody>\n",
              "    <tr>\n",
              "      <th>0</th>\n",
              "      <td>٤٧١/٣/ق/</td>\n",
              "      <td>١١ / ٤ / ١٤٣٨</td>\n",
              "      <td>الدمام</td>\n",
              "      <td>الحكم الغيابي الصادر من الدائرة التجارية الراب...</td>\n",
              "      <td>https://sjp.moj.gov.sa/Filter/AhkamDetails/13340</td>\n",
              "    </tr>\n",
              "    <tr>\n",
              "      <th>1</th>\n",
              "      <td>١٦٨٦/٣/ق/</td>\n",
              "      <td>١ / ١١ / ١٤٣٨</td>\n",
              "      <td>الدمام</td>\n",
              "      <td>الحكم في القضية رقم (١٦٨٦/٣/ق/ لعام ١٤٣٨ هـ)ال...</td>\n",
              "      <td>https://sjp.moj.gov.sa/Filter/AhkamDetails/13341</td>\n",
              "    </tr>\n",
              "    <tr>\n",
              "      <th>2</th>\n",
              "      <td>٤٠١٢/٣/ق/</td>\n",
              "      <td>٢٥ / ١٠ / ١٤٣٨</td>\n",
              "      <td>الدمام</td>\n",
              "      <td>الحكم في القضية رقم ٤٠١٢/٣/ق/ لعام ١٤٣٢ هـالمق...</td>\n",
              "      <td>https://sjp.moj.gov.sa/Filter/AhkamDetails/13343</td>\n",
              "    </tr>\n",
              "    <tr>\n",
              "      <th>3</th>\n",
              "      <td>٧١٥/٢/ق</td>\n",
              "      <td>٢١ / ٨ / ١٤٣٨</td>\n",
              "      <td>جدة</td>\n",
              "      <td>الحكم في القضية رقم ٧١٥/٢/ق لعام ١٤٣٨ هـالمقام...</td>\n",
              "      <td>https://sjp.moj.gov.sa/Filter/AhkamDetails/13424</td>\n",
              "    </tr>\n",
              "    <tr>\n",
              "      <th>4</th>\n",
              "      <td>١٢٣٩١/٢/ق</td>\n",
              "      <td>١٧ / ٥ / ١٤٣٨</td>\n",
              "      <td>جدة</td>\n",
              "      <td>الحكم في القضية رقم ١٢٣٩١/٢/ق لعام ١٤٣٧هـالمقا...</td>\n",
              "      <td>https://sjp.moj.gov.sa/Filter/AhkamDetails/13518</td>\n",
              "    </tr>\n",
              "    <tr>\n",
              "      <th>...</th>\n",
              "      <td>...</td>\n",
              "      <td>...</td>\n",
              "      <td>...</td>\n",
              "      <td>...</td>\n",
              "      <td>...</td>\n",
              "    </tr>\n",
              "    <tr>\n",
              "      <th>21607</th>\n",
              "      <td>٩٨٥٢/٣ /ق</td>\n",
              "      <td>١٢ / ٢ / ١٤٣٩</td>\n",
              "      <td>الدمام</td>\n",
              "      <td>الحكم الصادر في القضية التجارية رقم  ٩٨٥٢/٣ /ق...</td>\n",
              "      <td>https://sjp.moj.gov.sa/Filter/AhkamDetails/13601</td>\n",
              "    </tr>\n",
              "    <tr>\n",
              "      <th>21608</th>\n",
              "      <td>١٥٤٥/٢/ق</td>\n",
              "      <td>٢٥ / ٢ / ١٤٣٩</td>\n",
              "      <td>مكة المكرمة</td>\n",
              "      <td>الحكم الصادر في القضية رقم ١٥٤٥/٢/ق لعام ١٤٣٨ه...</td>\n",
              "      <td>https://sjp.moj.gov.sa/Filter/AhkamDetails/13142</td>\n",
              "    </tr>\n",
              "    <tr>\n",
              "      <th>21609</th>\n",
              "      <td>٩٩٥٣/٣/ق</td>\n",
              "      <td>١ / ٤ / ١٤٣٩</td>\n",
              "      <td>الدمام</td>\n",
              "      <td>الحكم في القضية رقم (٩٩٥٣/٣/ق لعام ١٤٣٨هـ)المق...</td>\n",
              "      <td>https://sjp.moj.gov.sa/Filter/AhkamDetails/13144</td>\n",
              "    </tr>\n",
              "    <tr>\n",
              "      <th>21610</th>\n",
              "      <td>١٠٤٦٥/٣/ق</td>\n",
              "      <td>١٧ / ٣ / ١٤٣٩</td>\n",
              "      <td>الدمام</td>\n",
              "      <td>الحكم في القضية رقم (١٠٤٦٥/٣/ق لعام ١٤٣٨هـ)الم...</td>\n",
              "      <td>https://sjp.moj.gov.sa/Filter/AhkamDetails/13162</td>\n",
              "    </tr>\n",
              "    <tr>\n",
              "      <th>21611</th>\n",
              "      <td>٢٩٢٣/٣/ق</td>\n",
              "      <td>٧ / ٤ / ١٤٣٩</td>\n",
              "      <td>الدمام</td>\n",
              "      <td>الحكم في القضية رقم ٢٩٢٣/٣/ق لعام ١٤٣٨هالمقامة...</td>\n",
              "      <td>https://sjp.moj.gov.sa/Filter/AhkamDetails/13163</td>\n",
              "    </tr>\n",
              "  </tbody>\n",
              "</table>\n",
              "<p>21612 rows × 5 columns</p>\n",
              "</div>"
            ],
            "text/plain": [
              "          Number            Date         City  \\\n",
              "0       ٤٧١/٣/ق/   ١١ / ٤ / ١٤٣٨       الدمام   \n",
              "1      ١٦٨٦/٣/ق/   ١ / ١١ / ١٤٣٨       الدمام   \n",
              "2      ٤٠١٢/٣/ق/  ٢٥ / ١٠ / ١٤٣٨       الدمام   \n",
              "3        ٧١٥/٢/ق   ٢١ / ٨ / ١٤٣٨          جدة   \n",
              "4      ١٢٣٩١/٢/ق   ١٧ / ٥ / ١٤٣٨          جدة   \n",
              "...          ...             ...          ...   \n",
              "21607  ٩٨٥٢/٣ /ق   ١٢ / ٢ / ١٤٣٩       الدمام   \n",
              "21608   ١٥٤٥/٢/ق   ٢٥ / ٢ / ١٤٣٩  مكة المكرمة   \n",
              "21609   ٩٩٥٣/٣/ق    ١ / ٤ / ١٤٣٩       الدمام   \n",
              "21610  ١٠٤٦٥/٣/ق   ١٧ / ٣ / ١٤٣٩       الدمام   \n",
              "21611   ٢٩٢٣/٣/ق    ٧ / ٤ / ١٤٣٩       الدمام   \n",
              "\n",
              "                                                    Fact  \\\n",
              "0      الحكم الغيابي الصادر من الدائرة التجارية الراب...   \n",
              "1      الحكم في القضية رقم (١٦٨٦/٣/ق/ لعام ١٤٣٨ هـ)ال...   \n",
              "2      الحكم في القضية رقم ٤٠١٢/٣/ق/ لعام ١٤٣٢ هـالمق...   \n",
              "3      الحكم في القضية رقم ٧١٥/٢/ق لعام ١٤٣٨ هـالمقام...   \n",
              "4      الحكم في القضية رقم ١٢٣٩١/٢/ق لعام ١٤٣٧هـالمقا...   \n",
              "...                                                  ...   \n",
              "21607  الحكم الصادر في القضية التجارية رقم  ٩٨٥٢/٣ /ق...   \n",
              "21608  الحكم الصادر في القضية رقم ١٥٤٥/٢/ق لعام ١٤٣٨ه...   \n",
              "21609  الحكم في القضية رقم (٩٩٥٣/٣/ق لعام ١٤٣٨هـ)المق...   \n",
              "21610  الحكم في القضية رقم (١٠٤٦٥/٣/ق لعام ١٤٣٨هـ)الم...   \n",
              "21611  الحكم في القضية رقم ٢٩٢٣/٣/ق لعام ١٤٣٨هالمقامة...   \n",
              "\n",
              "                                                    URL  \n",
              "0      https://sjp.moj.gov.sa/Filter/AhkamDetails/13340  \n",
              "1      https://sjp.moj.gov.sa/Filter/AhkamDetails/13341  \n",
              "2      https://sjp.moj.gov.sa/Filter/AhkamDetails/13343  \n",
              "3      https://sjp.moj.gov.sa/Filter/AhkamDetails/13424  \n",
              "4      https://sjp.moj.gov.sa/Filter/AhkamDetails/13518  \n",
              "...                                                 ...  \n",
              "21607  https://sjp.moj.gov.sa/Filter/AhkamDetails/13601  \n",
              "21608  https://sjp.moj.gov.sa/Filter/AhkamDetails/13142  \n",
              "21609  https://sjp.moj.gov.sa/Filter/AhkamDetails/13144  \n",
              "21610  https://sjp.moj.gov.sa/Filter/AhkamDetails/13162  \n",
              "21611  https://sjp.moj.gov.sa/Filter/AhkamDetails/13163  \n",
              "\n",
              "[21612 rows x 5 columns]"
            ]
          },
          "execution_count": 22,
          "metadata": {},
          "output_type": "execute_result"
        }
      ],
      "source": [
        "df = pd.read_csv(\"Proceeding_Case_Data.csv\" , engine='python')\n",
        "df"
      ]
    },
    {
      "cell_type": "code",
      "execution_count": null,
      "metadata": {
        "id": "QqxGVYw9HRaJ",
        "outputId": "925e8b1b-bdc5-4224-e85a-016b57609615"
      },
      "outputs": [
        {
          "data": {
            "text/plain": [
              "Number     119\n",
              "Date       666\n",
              "City      1426\n",
              "Fact      1426\n",
              "URL       2184\n",
              "dtype: int64"
            ]
          },
          "execution_count": 23,
          "metadata": {},
          "output_type": "execute_result"
        }
      ],
      "source": [
        "df.isna().sum()"
      ]
    },
    {
      "cell_type": "code",
      "execution_count": null,
      "metadata": {
        "id": "GS5vuYSzHRaK"
      },
      "outputs": [],
      "source": [
        "df = df.dropna(subset=['Fact'])"
      ]
    },
    {
      "cell_type": "code",
      "execution_count": null,
      "metadata": {
        "id": "5gQ640ruHRaK",
        "outputId": "e4c04b90-5ea6-4feb-e550-5395d14a1f84"
      },
      "outputs": [
        {
          "data": {
            "text/plain": [
              "Number    117\n",
              "Date        0\n",
              "City        0\n",
              "Fact        0\n",
              "URL       760\n",
              "dtype: int64"
            ]
          },
          "execution_count": 25,
          "metadata": {},
          "output_type": "execute_result"
        }
      ],
      "source": [
        "df.isna().sum()"
      ]
    },
    {
      "cell_type": "code",
      "execution_count": null,
      "metadata": {
        "id": "UUSOkG1pHRaK",
        "outputId": "3059a95b-24d6-45b9-caa1-e992110fc0f3"
      },
      "outputs": [
        {
          "data": {
            "text/plain": [
              "64"
            ]
          },
          "execution_count": 26,
          "metadata": {},
          "output_type": "execute_result"
        }
      ],
      "source": [
        "df.duplicated().sum()"
      ]
    },
    {
      "cell_type": "code",
      "execution_count": null,
      "metadata": {
        "id": "8OZ5L5R6HRaL"
      },
      "outputs": [],
      "source": [
        "df = df.drop_duplicates()"
      ]
    },
    {
      "cell_type": "code",
      "execution_count": null,
      "metadata": {
        "id": "6cwBA-rsHRaL"
      },
      "outputs": [],
      "source": [
        "df['Type'] = 'نظر الدعوى'"
      ]
    },
    {
      "cell_type": "code",
      "execution_count": null,
      "metadata": {
        "id": "vd4x33NqHRaM"
      },
      "outputs": [],
      "source": [
        "# Remove diacritics\n",
        "def clean_arabic_text(text):\n",
        "    arabic_diacritics = re.compile(r'[\\u0617-\\u061A\\u064B-\\u0652]')\n",
        "    text = re.sub(arabic_diacritics, '', text)\n",
        "    return text\n",
        "\n",
        "df['Cleaned_Fact'] = df['Fact'].apply(clean_arabic_text)"
      ]
    },
    {
      "cell_type": "code",
      "execution_count": null,
      "metadata": {
        "id": "9-mQcoabHRaN"
      },
      "outputs": [],
      "source": [
        "# Function to split the 'Fact' column into 'Facts', 'Reasons', and 'Judgment'\n",
        "def split_fact_column(fact_text):\n",
        "\n",
        "    facts_pattern = r'(?:الوقائع|\\(الواقعات\\)|\\(الوقائع\\)|الوقائع:\\s?|\\(الوقائــع\\)|\\(الوقائـــع\\)|\\(الدائرة\\)|\\(دائرة الاستئناف\\)|\\(وقائع الدعوى\\)|\\(واقعات الدعوى\\)|\\(وقائع الحكم\\)|\\(دائرة الاستئناف\\))'\n",
        "\n",
        "    reasons_pattern = r'(?:الأسباب:|الأسبـــاب|\\(الأسباب\\)|\\(الأسبـــاب\\)|\\(أسباب الحكم\\)|\\(الأسباب\\))'\n",
        "\n",
        "    judgment_pattern = r'(?:حكمت\\s*الدائرة|نص\\s*الحكم:|حكمت\\s*غيابياً|فلذلك\\s*حكمت\\s*الدائرة|لذلك\\s*حكمت:|فلذلك\\s*حكمت:|\\(فلذلك\\)|\\(لذلك\\)|\\(منطوق الحكم\\)|منطوق الحكم|\\(قررت الدائرة\\)|قررت\\s*الدائرة)'\n",
        "\n",
        "\n",
        "    facts_match = re.search(f'{facts_pattern}\\s*(.*?)\\s*{reasons_pattern}', fact_text, re.DOTALL)\n",
        "    facts = facts_match.group(1).strip() if facts_match else None\n",
        "\n",
        "    print(f'Facts Match: {facts}')\n",
        "\n",
        "    reasons_match = re.search(f'{reasons_pattern}\\s*(.*?)\\s*{judgment_pattern}', fact_text, re.DOTALL)\n",
        "    reasons = reasons_match.group(1).strip() if reasons_match else None\n",
        "\n",
        "    print(f'Reasons Match: {reasons}')\n",
        "\n",
        "    judgment_match = re.search(f'{judgment_pattern}\\s*(.*)', fact_text, re.DOTALL)\n",
        "    judgment = judgment_match.group(1).strip() if judgment_match else None\n",
        "\n",
        "    print(f'Judgment Match: {judgment}')\n",
        "\n",
        "    return facts, reasons, judgment\n",
        "\n",
        "df[['Facts', 'Reasons', 'Judgment']] = df['Cleaned_Fact'].apply(lambda x: pd.Series(split_fact_column(x)))\n",
        "df"
      ]
    },
    {
      "cell_type": "code",
      "execution_count": null,
      "metadata": {
        "id": "6PhMVzFLHRaN",
        "outputId": "e808c0e8-355e-4411-8978-34f0c531a638"
      },
      "outputs": [
        {
          "data": {
            "text/plain": [
              "Number           117\n",
              "Date               0\n",
              "City               0\n",
              "Fact               0\n",
              "URL              696\n",
              "Type               0\n",
              "Cleaned_Fact       0\n",
              "Facts           1486\n",
              "Reasons         1470\n",
              "Judgment         705\n",
              "dtype: int64"
            ]
          },
          "execution_count": 32,
          "metadata": {},
          "output_type": "execute_result"
        }
      ],
      "source": [
        "df.isna().sum()"
      ]
    },
    {
      "cell_type": "code",
      "execution_count": null,
      "metadata": {
        "id": "NVGbjHaQHRaO"
      },
      "outputs": [],
      "source": [
        "df = df.dropna(subset=['Facts'])"
      ]
    },
    {
      "cell_type": "code",
      "execution_count": null,
      "metadata": {
        "id": "Dr0MprK4HRaO"
      },
      "outputs": [],
      "source": [
        "df = df.dropna(subset=['Reasons'])"
      ]
    },
    {
      "cell_type": "code",
      "execution_count": null,
      "metadata": {
        "id": "dPszfguGHRaO",
        "outputId": "16af7ad6-dc66-4699-d19c-f2fa747a1c61"
      },
      "outputs": [
        {
          "data": {
            "text/plain": [
              "Number          107\n",
              "Date              0\n",
              "City              0\n",
              "Fact              0\n",
              "URL              12\n",
              "Type              0\n",
              "Cleaned_Fact      0\n",
              "Facts             0\n",
              "Reasons           0\n",
              "Judgment          0\n",
              "dtype: int64"
            ]
          },
          "execution_count": 35,
          "metadata": {},
          "output_type": "execute_result"
        }
      ],
      "source": [
        "df.isna().sum()"
      ]
    },
    {
      "cell_type": "code",
      "execution_count": null,
      "metadata": {
        "id": "6pJeuVYpHRaP",
        "outputId": "5845439f-cba5-4a84-f18d-ec4212b5de80"
      },
      "outputs": [
        {
          "data": {
            "text/plain": [
              "0"
            ]
          },
          "execution_count": 36,
          "metadata": {},
          "output_type": "execute_result"
        }
      ],
      "source": [
        "df.duplicated().sum()"
      ]
    },
    {
      "cell_type": "code",
      "execution_count": null,
      "metadata": {
        "id": "FKazaKvyHRaP"
      },
      "outputs": [],
      "source": [
        "df = df.drop(columns=['Fact'])"
      ]
    },
    {
      "cell_type": "code",
      "execution_count": null,
      "metadata": {
        "id": "ynOfq89KHRaP"
      },
      "outputs": [],
      "source": [
        "df = df.drop(columns=['URL'])"
      ]
    },
    {
      "cell_type": "code",
      "execution_count": null,
      "metadata": {
        "id": "yYWUfMaCHRaP"
      },
      "outputs": [],
      "source": [
        "df = df.drop(columns=['Cleaned_Fact'])"
      ]
    }
  ],
  "metadata": {
    "colab": {
      "provenance": []
    },
    "kernelspec": {
      "display_name": "Python 3",
      "language": "python",
      "name": "python3"
    },
    "language_info": {
      "codemirror_mode": {
        "name": "ipython",
        "version": 3
      },
      "file_extension": ".py",
      "mimetype": "text/x-python",
      "name": "python",
      "nbconvert_exporter": "python",
      "pygments_lexer": "ipython3",
      "version": "3.10.11"
    }
  },
  "nbformat": 4,
  "nbformat_minor": 0
}
