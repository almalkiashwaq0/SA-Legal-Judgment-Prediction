{
 "cells": [
  {
   "cell_type": "code",
   "execution_count": 5,
   "metadata": {},
   "outputs": [],
   "source": [
    "from selenium import webdriver\n",
    "from selenium.webdriver.support.ui import Select , WebDriverWait\n",
    "from selenium.webdriver.edge.service import Service\n",
    "from selenium.webdriver.common.by import By\n",
    "from selenium.common.exceptions import NoSuchElementException, ElementNotInteractableException\n",
    "from selenium.common.exceptions import StaleElementReferenceException\n",
    "from selenium.webdriver.support import expected_conditions as EC\n",
    "import time"
   ]
  },
  {
   "cell_type": "code",
   "execution_count": null,
   "metadata": {},
   "outputs": [],
   "source": [
    "# Initialize the Edge WebDriver\n",
    "driver = webdriver.Edge()\n",
    "\n",
    "# Open the target page\n",
    "driver.get('https://sjp.moj.gov.sa/Filter?isFilterButtonClicked=True')\n",
    "driver.maximize_window()\n",
    "time.sleep(1)\n",
    "\n",
    "# Select value '483' from the first dropdown\n",
    "dropdown = driver.find_element(By.ID, 'darga1')\n",
    "radius = Select(dropdown)\n",
    "radius.select_by_value('1')\n",
    "time.sleep(2)\n",
    "\n",
    "# Select value '529' from the second dropdown\n",
    "dropdown2 = driver.find_element(By.ID, 'darga2')\n",
    "radius2 = Select(dropdown2)\n",
    "radius2.select_by_value('444')\n",
    "time.sleep(2)\n",
    "\n",
    "page_size_dropdown = driver.find_element(By.ID, 'PageSize')\n",
    "page_size_select = Select(page_size_dropdown)\n",
    "page_size_select.select_by_value('100')\n",
    "time.sleep(2)"
   ]
  },
  {
   "cell_type": "code",
   "execution_count": null,
   "metadata": {},
   "outputs": [],
   "source": [
    "for k in range(206):\n",
    "    links = driver.find_elements(By.XPATH, '//a[@class=\"main2-color\"]')\n",
    "\n",
    "    with open('Cases__links.csv', 'a', encoding='utf-8') as file:\n",
    "        for link in links:\n",
    "            try:\n",
    "                href_value = link.get_attribute(\"href\")\n",
    "                if href_value is not None:\n",
    "                    file.write(href_value + '\\n')\n",
    "            except StaleElementReferenceException:\n",
    "                print(\"StaleElementReferenceException encountered. Refetching the element.\")\n",
    "                links = driver.find_elements(By.XPATH, '//a[@class=\"main2-color\"]')\n",
    "                href_value = link.get_attribute(\"href\")\n",
    "                if href_value is not None:\n",
    "                    file.write(href_value + '\\n')\n",
    "\n",
    "    try:\n",
    "        next_button = WebDriverWait(driver, 60).until(\n",
    "            EC.element_to_be_clickable((By.XPATH, '//a[@rel=\"next\"]'))\n",
    "        )\n",
    "        next_button.click()\n",
    "        time.sleep(4)\n",
    "\n",
    "    except NoSuchElementException:\n",
    "        print(\"No next button found or reached the end.\")\n",
    "        break\n",
    "    except ElementNotInteractableException:\n",
    "        print(\"Next button not interactable.\")\n",
    "        break"
   ]
  },
  {
   "cell_type": "markdown",
   "metadata": {},
   "source": [
    "## Links Cleaning"
   ]
  },
  {
   "cell_type": "code",
   "execution_count": null,
   "metadata": {},
   "outputs": [
    {
     "data": {
      "text/html": [
       "<div>\n",
       "<style scoped>\n",
       "    .dataframe tbody tr th:only-of-type {\n",
       "        vertical-align: middle;\n",
       "    }\n",
       "\n",
       "    .dataframe tbody tr th {\n",
       "        vertical-align: top;\n",
       "    }\n",
       "\n",
       "    .dataframe thead th {\n",
       "        text-align: right;\n",
       "    }\n",
       "</style>\n",
       "<table border=\"1\" class=\"dataframe\">\n",
       "  <thead>\n",
       "    <tr style=\"text-align: right;\">\n",
       "      <th></th>\n",
       "      <th>https://sjp.moj.gov.sa/</th>\n",
       "    </tr>\n",
       "  </thead>\n",
       "  <tbody>\n",
       "    <tr>\n",
       "      <th>0</th>\n",
       "      <td>https://sjp.moj.gov.sa/Filter/AhkamDetails/13340</td>\n",
       "    </tr>\n",
       "    <tr>\n",
       "      <th>1</th>\n",
       "      <td>https://sjp.moj.gov.sa/Filter/AhkamDetails/13341</td>\n",
       "    </tr>\n",
       "    <tr>\n",
       "      <th>2</th>\n",
       "      <td>https://sjp.moj.gov.sa/Filter/AhkamDetails/13343</td>\n",
       "    </tr>\n",
       "    <tr>\n",
       "      <th>3</th>\n",
       "      <td>https://sjp.moj.gov.sa/Filter/AhkamDetails/13424</td>\n",
       "    </tr>\n",
       "    <tr>\n",
       "      <th>4</th>\n",
       "      <td>https://sjp.moj.gov.sa/Filter/AhkamDetails/13518</td>\n",
       "    </tr>\n",
       "    <tr>\n",
       "      <th>...</th>\n",
       "      <td>...</td>\n",
       "    </tr>\n",
       "    <tr>\n",
       "      <th>116470</th>\n",
       "      <td>https://sjp.moj.gov.sa/</td>\n",
       "    </tr>\n",
       "    <tr>\n",
       "      <th>116471</th>\n",
       "      <td>https://sjp.moj.gov.sa/AboutSite</td>\n",
       "    </tr>\n",
       "    <tr>\n",
       "      <th>116472</th>\n",
       "      <td>https://sjp.moj.gov.sa/Filter?isFilterButtonCl...</td>\n",
       "    </tr>\n",
       "    <tr>\n",
       "      <th>116473</th>\n",
       "      <td>https://sjp.moj.gov.sa/ContactUs</td>\n",
       "    </tr>\n",
       "    <tr>\n",
       "      <th>116474</th>\n",
       "      <td>https://sjp.moj.gov.sa/UserManual</td>\n",
       "    </tr>\n",
       "  </tbody>\n",
       "</table>\n",
       "<p>116475 rows × 1 columns</p>\n",
       "</div>"
      ],
      "text/plain": [
       "                                  https://sjp.moj.gov.sa/\n",
       "0        https://sjp.moj.gov.sa/Filter/AhkamDetails/13340\n",
       "1        https://sjp.moj.gov.sa/Filter/AhkamDetails/13341\n",
       "2        https://sjp.moj.gov.sa/Filter/AhkamDetails/13343\n",
       "3        https://sjp.moj.gov.sa/Filter/AhkamDetails/13424\n",
       "4        https://sjp.moj.gov.sa/Filter/AhkamDetails/13518\n",
       "...                                                   ...\n",
       "116470                            https://sjp.moj.gov.sa/\n",
       "116471                   https://sjp.moj.gov.sa/AboutSite\n",
       "116472  https://sjp.moj.gov.sa/Filter?isFilterButtonCl...\n",
       "116473                   https://sjp.moj.gov.sa/ContactUs\n",
       "116474                  https://sjp.moj.gov.sa/UserManual\n",
       "\n",
       "[116475 rows x 1 columns]"
      ]
     },
     "execution_count": 15,
     "metadata": {},
     "output_type": "execute_result"
    }
   ],
   "source": [
    "df = pd.read_csv('Cases_links.csv')\n",
    "df"
   ]
  },
  {
   "cell_type": "code",
   "execution_count": 16,
   "metadata": {},
   "outputs": [
    {
     "name": "stdout",
     "output_type": "stream",
     "text": [
      "                                 https://sjp.moj.gov.sa/\n",
      "0       https://sjp.moj.gov.sa/Filter/AhkamDetails/13340\n",
      "1       https://sjp.moj.gov.sa/Filter/AhkamDetails/13341\n",
      "2       https://sjp.moj.gov.sa/Filter/AhkamDetails/13343\n",
      "3       https://sjp.moj.gov.sa/Filter/AhkamDetails/13424\n",
      "4       https://sjp.moj.gov.sa/Filter/AhkamDetails/13518\n",
      "...                                                  ...\n",
      "115743  https://sjp.moj.gov.sa/Filter/AhkamDetails/13601\n",
      "115744  https://sjp.moj.gov.sa/Filter/AhkamDetails/13142\n",
      "115745  https://sjp.moj.gov.sa/Filter/AhkamDetails/13144\n",
      "115746  https://sjp.moj.gov.sa/Filter/AhkamDetails/13162\n",
      "115747  https://sjp.moj.gov.sa/Filter/AhkamDetails/13163\n",
      "\n",
      "[20193 rows x 1 columns]\n"
     ]
    }
   ],
   "source": [
    "unique_df = df.drop_duplicates()\n",
    "print(unique_df)"
   ]
  },
  {
   "cell_type": "code",
   "execution_count": 17,
   "metadata": {},
   "outputs": [
    {
     "data": {
      "text/plain": [
       "https://sjp.moj.gov.sa/    0\n",
       "dtype: int64"
      ]
     },
     "execution_count": 17,
     "metadata": {},
     "output_type": "execute_result"
    }
   ],
   "source": [
    "unique_df.isnull().sum()"
   ]
  },
  {
   "cell_type": "code",
   "execution_count": 18,
   "metadata": {},
   "outputs": [
    {
     "name": "stdout",
     "output_type": "stream",
     "text": [
      "                                 https://sjp.moj.gov.sa/\n",
      "0       https://sjp.moj.gov.sa/Filter/AhkamDetails/13340\n",
      "1       https://sjp.moj.gov.sa/Filter/AhkamDetails/13341\n",
      "2       https://sjp.moj.gov.sa/Filter/AhkamDetails/13343\n",
      "3       https://sjp.moj.gov.sa/Filter/AhkamDetails/13424\n",
      "4       https://sjp.moj.gov.sa/Filter/AhkamDetails/13518\n",
      "...                                                  ...\n",
      "115743  https://sjp.moj.gov.sa/Filter/AhkamDetails/13601\n",
      "115744  https://sjp.moj.gov.sa/Filter/AhkamDetails/13142\n",
      "115745  https://sjp.moj.gov.sa/Filter/AhkamDetails/13144\n",
      "115746  https://sjp.moj.gov.sa/Filter/AhkamDetails/13162\n",
      "115747  https://sjp.moj.gov.sa/Filter/AhkamDetails/13163\n",
      "\n",
      "[20188 rows x 1 columns]\n"
     ]
    }
   ],
   "source": [
    "filtered_df = unique_df[unique_df['https://sjp.moj.gov.sa/'].str.startswith('https://sjp.moj.gov.sa/Filter/AhkamDetails/')]\n",
    "print(filtered_df)"
   ]
  },
  {
   "cell_type": "code",
   "execution_count": 19,
   "metadata": {},
   "outputs": [],
   "source": [
    "filtered_df = filtered_df.rename(columns={'https://sjp.moj.gov.sa/': 'Links'}) "
   ]
  },
  {
   "cell_type": "code",
   "execution_count": null,
   "metadata": {},
   "outputs": [],
   "source": [
    "filtered_df.to_csv('cleaned_Cases_links.csv', index=False)"
   ]
  }
 ],
 "metadata": {
  "kernelspec": {
   "display_name": "Python 3",
   "language": "python",
   "name": "python3"
  },
  "language_info": {
   "codemirror_mode": {
    "name": "ipython",
    "version": 3
   },
   "file_extension": ".py",
   "mimetype": "text/x-python",
   "name": "python",
   "nbconvert_exporter": "python",
   "pygments_lexer": "ipython3",
   "version": "3.10.11"
  }
 },
 "nbformat": 4,
 "nbformat_minor": 2
}
