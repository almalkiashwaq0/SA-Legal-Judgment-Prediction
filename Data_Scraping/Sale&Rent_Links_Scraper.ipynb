{
 "cells": [
  {
   "cell_type": "markdown",
   "id": "b4785433",
   "metadata": {},
   "source": [
    "## Sale links scraping"
   ]
  },
  {
   "cell_type": "code",
   "execution_count": null,
   "id": "57d7c60f",
   "metadata": {},
   "outputs": [],
   "source": [
    "!pip install --upgrade selenium"
   ]
  },
  {
   "cell_type": "code",
   "execution_count": null,
   "id": "289c5ac1",
   "metadata": {},
   "outputs": [],
   "source": [
    "import pandas as pd\n",
    "from selenium import webdriver\n",
    "from selenium.webdriver.support.ui import Select , WebDriverWait\n",
    "from selenium.webdriver.edge.service import Service\n",
    "from selenium.webdriver.common.by import By\n",
    "from selenium.common.exceptions import NoSuchElementException, ElementNotInteractableException\n",
    "from selenium.common.exceptions import StaleElementReferenceException\n",
    "from selenium.webdriver.support import expected_conditions as EC\n",
    "import time"
   ]
  },
  {
   "cell_type": "markdown",
   "id": "5c9d2fad",
   "metadata": {},
   "source": [
    "## Sale Links Scraping"
   ]
  },
  {
   "cell_type": "code",
   "execution_count": null,
   "id": "c2ea57a9",
   "metadata": {},
   "outputs": [],
   "source": [
    "driver = webdriver.Edge()\n",
    "\n",
    "driver.get('https://sjp.moj.gov.sa/Filter?isFilterButtonClicked=True')\n",
    "driver.maximize_window()\n",
    "time.sleep(1)\n",
    "\n",
    "dropdown=driver.find_element(By.ID, 'darga1')\n",
    "radius=Select(dropdown)\n",
    "radius.select_by_value('483')\n",
    "time.sleep(2)\n",
    "#529\n",
    "dropdowndropdown=driver.find_element(By.ID, 'darga2')\n",
    "radiusradius=Select(dropdowndropdown)\n",
    "radiusradius.select_by_value('618')\n",
    "time.sleep(2)"
   ]
  },
  {
   "cell_type": "code",
   "execution_count": null,
   "id": "f37edac7",
   "metadata": {
    "scrolled": true
   },
   "outputs": [],
   "source": [
    "for k in range(795):\n",
    "    \n",
    "    links = driver.find_elements(By.XPATH, '//a[@class=\"main2-color\"]')\n",
    "    \n",
    "    with open('sale__links.csv', 'a', encoding='utf-8') as file:\n",
    "        for link in links:\n",
    "            href_value = link.get_attribute(\"href\")\n",
    "            if href_value is not None:\n",
    "                file.write(href_value + '\\n')\n",
    "    \n",
    "    \n",
    "    try:\n",
    "        next_button = driver.find_element(By.XPATH, '//a[@rel=\"next\"]')\n",
    "        next_button.click()\n",
    "        \n",
    "        \n",
    "        time.sleep(4)  \n",
    "    except NoSuchElementException:\n",
    "        print(\"No next button found or reached the end.\")\n",
    "        break  \n",
    "\n",
    "\n",
    "file.close()"
   ]
  },
  {
   "cell_type": "markdown",
   "id": "a62991c2",
   "metadata": {},
   "source": [
    "## Sale links cleaning"
   ]
  },
  {
   "cell_type": "code",
   "execution_count": null,
   "id": "2da1970e",
   "metadata": {},
   "outputs": [
    {
     "name": "stdout",
     "output_type": "stream",
     "text": [
      "                                  https://sjp.moj.gov.sa/\n",
      "0        https://sjp.moj.gov.sa/Filter/AhkamDetails/68871\n",
      "1        https://sjp.moj.gov.sa/Filter/AhkamDetails/79311\n",
      "2        https://sjp.moj.gov.sa/Filter/AhkamDetails/82190\n",
      "3        https://sjp.moj.gov.sa/Filter/AhkamDetails/82450\n",
      "4        https://sjp.moj.gov.sa/Filter/AhkamDetails/82532\n",
      "...                                                   ...\n",
      "106901                            https://sjp.moj.gov.sa/\n",
      "106902                   https://sjp.moj.gov.sa/AboutSite\n",
      "106903  https://sjp.moj.gov.sa/Filter?isFilterButtonCl...\n",
      "106904                   https://sjp.moj.gov.sa/ContactUs\n",
      "106905                  https://sjp.moj.gov.sa/UserManual\n",
      "\n",
      "[106906 rows x 1 columns]\n"
     ]
    }
   ],
   "source": [
    "file_path = 'sale_links.csv'\n",
    "df = pd.read_csv(file_path, encoding='latin1')\n",
    "print(df)"
   ]
  },
  {
   "cell_type": "code",
   "execution_count": 15,
   "id": "3a6ab40c",
   "metadata": {},
   "outputs": [
    {
     "name": "stdout",
     "output_type": "stream",
     "text": [
      "                                 https://sjp.moj.gov.sa/\n",
      "0       https://sjp.moj.gov.sa/Filter/AhkamDetails/68871\n",
      "1       https://sjp.moj.gov.sa/Filter/AhkamDetails/79311\n",
      "2       https://sjp.moj.gov.sa/Filter/AhkamDetails/82190\n",
      "3       https://sjp.moj.gov.sa/Filter/AhkamDetails/82450\n",
      "4       https://sjp.moj.gov.sa/Filter/AhkamDetails/82532\n",
      "...                                                  ...\n",
      "106843  https://sjp.moj.gov.sa/Filter/AhkamDetails/13325\n",
      "106844  https://sjp.moj.gov.sa/Filter/AhkamDetails/13348\n",
      "106845  https://sjp.moj.gov.sa/Filter/AhkamDetails/13194\n",
      "106846  https://sjp.moj.gov.sa/Filter/AhkamDetails/13400\n",
      "106847  https://sjp.moj.gov.sa/Filter/AhkamDetails/13414\n",
      "\n",
      "[7945 rows x 1 columns]\n"
     ]
    }
   ],
   "source": [
    "unique_df = df.drop_duplicates()\n",
    "print(unique_df)"
   ]
  },
  {
   "cell_type": "code",
   "execution_count": 17,
   "id": "d70ba39c",
   "metadata": {},
   "outputs": [
    {
     "data": {
      "text/plain": [
       "https://sjp.moj.gov.sa/    0\n",
       "dtype: int64"
      ]
     },
     "execution_count": 17,
     "metadata": {},
     "output_type": "execute_result"
    }
   ],
   "source": [
    "unique_df.isnull().sum()"
   ]
  },
  {
   "cell_type": "code",
   "execution_count": 18,
   "id": "ee96221d",
   "metadata": {},
   "outputs": [
    {
     "name": "stdout",
     "output_type": "stream",
     "text": [
      "                                 https://sjp.moj.gov.sa/\n",
      "0       https://sjp.moj.gov.sa/Filter/AhkamDetails/68871\n",
      "1       https://sjp.moj.gov.sa/Filter/AhkamDetails/79311\n",
      "2       https://sjp.moj.gov.sa/Filter/AhkamDetails/82190\n",
      "3       https://sjp.moj.gov.sa/Filter/AhkamDetails/82450\n",
      "4       https://sjp.moj.gov.sa/Filter/AhkamDetails/82532\n",
      "...                                                  ...\n",
      "106843  https://sjp.moj.gov.sa/Filter/AhkamDetails/13325\n",
      "106844  https://sjp.moj.gov.sa/Filter/AhkamDetails/13348\n",
      "106845  https://sjp.moj.gov.sa/Filter/AhkamDetails/13194\n",
      "106846  https://sjp.moj.gov.sa/Filter/AhkamDetails/13400\n",
      "106847  https://sjp.moj.gov.sa/Filter/AhkamDetails/13414\n",
      "\n",
      "[7940 rows x 1 columns]\n"
     ]
    }
   ],
   "source": [
    "filtered_df = unique_df[unique_df['https://sjp.moj.gov.sa/'].str.startswith('https://sjp.moj.gov.sa/Filter/AhkamDetails/')]\n",
    "print(filtered_df)"
   ]
  },
  {
   "cell_type": "code",
   "execution_count": 19,
   "id": "433ca26d",
   "metadata": {},
   "outputs": [],
   "source": [
    "filtered_df = filtered_df.rename(columns={'https://sjp.moj.gov.sa/': 'Links'}) "
   ]
  },
  {
   "cell_type": "code",
   "execution_count": 20,
   "id": "fb506abc",
   "metadata": {},
   "outputs": [
    {
     "data": {
      "text/html": [
       "<div>\n",
       "<style scoped>\n",
       "    .dataframe tbody tr th:only-of-type {\n",
       "        vertical-align: middle;\n",
       "    }\n",
       "\n",
       "    .dataframe tbody tr th {\n",
       "        vertical-align: top;\n",
       "    }\n",
       "\n",
       "    .dataframe thead th {\n",
       "        text-align: right;\n",
       "    }\n",
       "</style>\n",
       "<table border=\"1\" class=\"dataframe\">\n",
       "  <thead>\n",
       "    <tr style=\"text-align: right;\">\n",
       "      <th></th>\n",
       "      <th>Links</th>\n",
       "    </tr>\n",
       "  </thead>\n",
       "  <tbody>\n",
       "    <tr>\n",
       "      <th>0</th>\n",
       "      <td>https://sjp.moj.gov.sa/Filter/AhkamDetails/68871</td>\n",
       "    </tr>\n",
       "    <tr>\n",
       "      <th>1</th>\n",
       "      <td>https://sjp.moj.gov.sa/Filter/AhkamDetails/79311</td>\n",
       "    </tr>\n",
       "    <tr>\n",
       "      <th>2</th>\n",
       "      <td>https://sjp.moj.gov.sa/Filter/AhkamDetails/82190</td>\n",
       "    </tr>\n",
       "    <tr>\n",
       "      <th>3</th>\n",
       "      <td>https://sjp.moj.gov.sa/Filter/AhkamDetails/82450</td>\n",
       "    </tr>\n",
       "    <tr>\n",
       "      <th>4</th>\n",
       "      <td>https://sjp.moj.gov.sa/Filter/AhkamDetails/82532</td>\n",
       "    </tr>\n",
       "    <tr>\n",
       "      <th>...</th>\n",
       "      <td>...</td>\n",
       "    </tr>\n",
       "    <tr>\n",
       "      <th>106843</th>\n",
       "      <td>https://sjp.moj.gov.sa/Filter/AhkamDetails/13325</td>\n",
       "    </tr>\n",
       "    <tr>\n",
       "      <th>106844</th>\n",
       "      <td>https://sjp.moj.gov.sa/Filter/AhkamDetails/13348</td>\n",
       "    </tr>\n",
       "    <tr>\n",
       "      <th>106845</th>\n",
       "      <td>https://sjp.moj.gov.sa/Filter/AhkamDetails/13194</td>\n",
       "    </tr>\n",
       "    <tr>\n",
       "      <th>106846</th>\n",
       "      <td>https://sjp.moj.gov.sa/Filter/AhkamDetails/13400</td>\n",
       "    </tr>\n",
       "    <tr>\n",
       "      <th>106847</th>\n",
       "      <td>https://sjp.moj.gov.sa/Filter/AhkamDetails/13414</td>\n",
       "    </tr>\n",
       "  </tbody>\n",
       "</table>\n",
       "<p>7940 rows × 1 columns</p>\n",
       "</div>"
      ],
      "text/plain": [
       "                                                   Links\n",
       "0       https://sjp.moj.gov.sa/Filter/AhkamDetails/68871\n",
       "1       https://sjp.moj.gov.sa/Filter/AhkamDetails/79311\n",
       "2       https://sjp.moj.gov.sa/Filter/AhkamDetails/82190\n",
       "3       https://sjp.moj.gov.sa/Filter/AhkamDetails/82450\n",
       "4       https://sjp.moj.gov.sa/Filter/AhkamDetails/82532\n",
       "...                                                  ...\n",
       "106843  https://sjp.moj.gov.sa/Filter/AhkamDetails/13325\n",
       "106844  https://sjp.moj.gov.sa/Filter/AhkamDetails/13348\n",
       "106845  https://sjp.moj.gov.sa/Filter/AhkamDetails/13194\n",
       "106846  https://sjp.moj.gov.sa/Filter/AhkamDetails/13400\n",
       "106847  https://sjp.moj.gov.sa/Filter/AhkamDetails/13414\n",
       "\n",
       "[7940 rows x 1 columns]"
      ]
     },
     "execution_count": 20,
     "metadata": {},
     "output_type": "execute_result"
    }
   ],
   "source": [
    "filtered_df"
   ]
  },
  {
   "cell_type": "code",
   "execution_count": null,
   "id": "831d36f4",
   "metadata": {},
   "outputs": [],
   "source": [
    "filtered_df.to_csv('cleaned_sale_links.csv', index=False)"
   ]
  },
  {
   "cell_type": "markdown",
   "id": "02704db7",
   "metadata": {},
   "source": [
    "## Rent Links Scraping"
   ]
  },
  {
   "cell_type": "code",
   "execution_count": null,
   "id": "e1efa71f",
   "metadata": {},
   "outputs": [],
   "source": [
    "from selenium import webdriver\n",
    "from selenium.webdriver.common.by import By\n",
    "from selenium.webdriver.support.ui import Select\n",
    "import time\n",
    "\n",
    "# Initialize the Edge WebDriver\n",
    "driver = webdriver.Edge()\n",
    "\n",
    "# Open the target page\n",
    "driver.get('https://sjp.moj.gov.sa/Filter?isFilterButtonClicked=True')\n",
    "driver.maximize_window()\n",
    "time.sleep(1)\n",
    "\n",
    "# Select value '483' from the first dropdown\n",
    "dropdown = driver.find_element(By.ID, 'darga1')\n",
    "radius = Select(dropdown)\n",
    "radius.select_by_value('483')\n",
    "time.sleep(2)\n",
    "\n",
    "# Select value '529' from the second dropdown\n",
    "dropdown2 = driver.find_element(By.ID, 'darga2')\n",
    "radius2 = Select(dropdown2)\n",
    "radius2.select_by_value('529')\n",
    "time.sleep(2)\n",
    "\n",
    "# Number of elements per page (100)\n",
    "page_size_dropdown = driver.find_element(By.ID, 'PageSize')\n",
    "page_size_select = Select(page_size_dropdown)\n",
    "page_size_select.select_by_value('100')\n",
    "time.sleep(2)\n"
   ]
  },
  {
   "cell_type": "code",
   "execution_count": null,
   "id": "c79e5a0e",
   "metadata": {},
   "outputs": [],
   "source": [
    "for k in range(86):\n",
    "    \n",
    "    links = driver.find_elements(By.XPATH, '//a[@class=\"main2-color\"]')\n",
    "    \n",
    "    with open('rent__links.csv', 'a', encoding='utf-8') as file:\n",
    "        for link in links:\n",
    "            href_value = link.get_attribute(\"href\")\n",
    "            if href_value is not None:\n",
    "                file.write(href_value + '\\n')\n",
    "    \n",
    "    \n",
    "    try:\n",
    "        next_button = driver.find_element(By.XPATH, '//a[@rel=\"next\"]')\n",
    "        next_button.click()\n",
    "        \n",
    "        \n",
    "        time.sleep(4)  \n",
    "    except NoSuchElementException:\n",
    "        print(\"No next button found or reached the end.\")\n",
    "        break  "
   ]
  },
  {
   "cell_type": "markdown",
   "id": "e3ba817a",
   "metadata": {},
   "source": [
    " ## Rent Links Cleaning"
   ]
  },
  {
   "cell_type": "code",
   "execution_count": null,
   "id": "7f137595",
   "metadata": {},
   "outputs": [
    {
     "name": "stdout",
     "output_type": "stream",
     "text": [
      "                                 https://sjp.moj.gov.sa/\n",
      "0       https://sjp.moj.gov.sa/Filter/AhkamDetails/82572\n",
      "1       https://sjp.moj.gov.sa/Filter/AhkamDetails/82576\n",
      "2       https://sjp.moj.gov.sa/Filter/AhkamDetails/77979\n",
      "3       https://sjp.moj.gov.sa/Filter/AhkamDetails/82178\n",
      "4       https://sjp.moj.gov.sa/Filter/AhkamDetails/82558\n",
      "...                                                  ...\n",
      "53571                            https://sjp.moj.gov.sa/\n",
      "53572                   https://sjp.moj.gov.sa/AboutSite\n",
      "53573  https://sjp.moj.gov.sa/Filter?isFilterButtonCl...\n",
      "53574                   https://sjp.moj.gov.sa/ContactUs\n",
      "53575                  https://sjp.moj.gov.sa/UserManual\n",
      "\n",
      "[53576 rows x 1 columns]\n"
     ]
    }
   ],
   "source": [
    "import pandas as pd\n",
    "file_path = 'rent_links.csv'\n",
    "df = pd.read_csv(file_path, encoding='latin1')\n",
    "print(df)"
   ]
  },
  {
   "cell_type": "code",
   "execution_count": 52,
   "id": "3b2520e2",
   "metadata": {},
   "outputs": [
    {
     "name": "stdout",
     "output_type": "stream",
     "text": [
      "                                https://sjp.moj.gov.sa/\n",
      "0      https://sjp.moj.gov.sa/Filter/AhkamDetails/82572\n",
      "1      https://sjp.moj.gov.sa/Filter/AhkamDetails/82576\n",
      "2      https://sjp.moj.gov.sa/Filter/AhkamDetails/77979\n",
      "3      https://sjp.moj.gov.sa/Filter/AhkamDetails/82178\n",
      "4      https://sjp.moj.gov.sa/Filter/AhkamDetails/82558\n",
      "...                                                 ...\n",
      "53049  https://sjp.moj.gov.sa/Filter/AhkamDetails/17666\n",
      "53050  https://sjp.moj.gov.sa/Filter/AhkamDetails/17832\n",
      "53051  https://sjp.moj.gov.sa/Filter/AhkamDetails/17857\n",
      "53052  https://sjp.moj.gov.sa/Filter/AhkamDetails/17870\n",
      "53053  https://sjp.moj.gov.sa/Filter/AhkamDetails/17443\n",
      "\n",
      "[8205 rows x 1 columns]\n"
     ]
    }
   ],
   "source": [
    "unique_df = df.drop_duplicates()\n",
    "print(unique_df)"
   ]
  },
  {
   "cell_type": "code",
   "execution_count": 53,
   "id": "0d7df068",
   "metadata": {},
   "outputs": [
    {
     "name": "stdout",
     "output_type": "stream",
     "text": [
      "                                https://sjp.moj.gov.sa/\n",
      "0      https://sjp.moj.gov.sa/Filter/AhkamDetails/82572\n",
      "1      https://sjp.moj.gov.sa/Filter/AhkamDetails/82576\n",
      "2      https://sjp.moj.gov.sa/Filter/AhkamDetails/77979\n",
      "3      https://sjp.moj.gov.sa/Filter/AhkamDetails/82178\n",
      "4      https://sjp.moj.gov.sa/Filter/AhkamDetails/82558\n",
      "...                                                 ...\n",
      "53049  https://sjp.moj.gov.sa/Filter/AhkamDetails/17666\n",
      "53050  https://sjp.moj.gov.sa/Filter/AhkamDetails/17832\n",
      "53051  https://sjp.moj.gov.sa/Filter/AhkamDetails/17857\n",
      "53052  https://sjp.moj.gov.sa/Filter/AhkamDetails/17870\n",
      "53053  https://sjp.moj.gov.sa/Filter/AhkamDetails/17443\n",
      "\n",
      "[8200 rows x 1 columns]\n"
     ]
    }
   ],
   "source": [
    "filtered_df = unique_df[unique_df['https://sjp.moj.gov.sa/'].str.startswith('https://sjp.moj.gov.sa/Filter/AhkamDetails/')]\n",
    "print(filtered_df)"
   ]
  },
  {
   "cell_type": "code",
   "execution_count": 54,
   "id": "da1e73af",
   "metadata": {},
   "outputs": [],
   "source": [
    "filtered_df = filtered_df.rename(columns={'https://sjp.moj.gov.sa/': 'Links'}) "
   ]
  },
  {
   "cell_type": "code",
   "execution_count": 55,
   "id": "50e057bf",
   "metadata": {},
   "outputs": [
    {
     "data": {
      "text/html": [
       "<div>\n",
       "<style scoped>\n",
       "    .dataframe tbody tr th:only-of-type {\n",
       "        vertical-align: middle;\n",
       "    }\n",
       "\n",
       "    .dataframe tbody tr th {\n",
       "        vertical-align: top;\n",
       "    }\n",
       "\n",
       "    .dataframe thead th {\n",
       "        text-align: right;\n",
       "    }\n",
       "</style>\n",
       "<table border=\"1\" class=\"dataframe\">\n",
       "  <thead>\n",
       "    <tr style=\"text-align: right;\">\n",
       "      <th></th>\n",
       "      <th>Links</th>\n",
       "    </tr>\n",
       "  </thead>\n",
       "  <tbody>\n",
       "    <tr>\n",
       "      <th>0</th>\n",
       "      <td>https://sjp.moj.gov.sa/Filter/AhkamDetails/82572</td>\n",
       "    </tr>\n",
       "    <tr>\n",
       "      <th>1</th>\n",
       "      <td>https://sjp.moj.gov.sa/Filter/AhkamDetails/82576</td>\n",
       "    </tr>\n",
       "    <tr>\n",
       "      <th>2</th>\n",
       "      <td>https://sjp.moj.gov.sa/Filter/AhkamDetails/77979</td>\n",
       "    </tr>\n",
       "    <tr>\n",
       "      <th>3</th>\n",
       "      <td>https://sjp.moj.gov.sa/Filter/AhkamDetails/82178</td>\n",
       "    </tr>\n",
       "    <tr>\n",
       "      <th>4</th>\n",
       "      <td>https://sjp.moj.gov.sa/Filter/AhkamDetails/82558</td>\n",
       "    </tr>\n",
       "    <tr>\n",
       "      <th>...</th>\n",
       "      <td>...</td>\n",
       "    </tr>\n",
       "    <tr>\n",
       "      <th>53049</th>\n",
       "      <td>https://sjp.moj.gov.sa/Filter/AhkamDetails/17666</td>\n",
       "    </tr>\n",
       "    <tr>\n",
       "      <th>53050</th>\n",
       "      <td>https://sjp.moj.gov.sa/Filter/AhkamDetails/17832</td>\n",
       "    </tr>\n",
       "    <tr>\n",
       "      <th>53051</th>\n",
       "      <td>https://sjp.moj.gov.sa/Filter/AhkamDetails/17857</td>\n",
       "    </tr>\n",
       "    <tr>\n",
       "      <th>53052</th>\n",
       "      <td>https://sjp.moj.gov.sa/Filter/AhkamDetails/17870</td>\n",
       "    </tr>\n",
       "    <tr>\n",
       "      <th>53053</th>\n",
       "      <td>https://sjp.moj.gov.sa/Filter/AhkamDetails/17443</td>\n",
       "    </tr>\n",
       "  </tbody>\n",
       "</table>\n",
       "<p>8200 rows × 1 columns</p>\n",
       "</div>"
      ],
      "text/plain": [
       "                                                  Links\n",
       "0      https://sjp.moj.gov.sa/Filter/AhkamDetails/82572\n",
       "1      https://sjp.moj.gov.sa/Filter/AhkamDetails/82576\n",
       "2      https://sjp.moj.gov.sa/Filter/AhkamDetails/77979\n",
       "3      https://sjp.moj.gov.sa/Filter/AhkamDetails/82178\n",
       "4      https://sjp.moj.gov.sa/Filter/AhkamDetails/82558\n",
       "...                                                 ...\n",
       "53049  https://sjp.moj.gov.sa/Filter/AhkamDetails/17666\n",
       "53050  https://sjp.moj.gov.sa/Filter/AhkamDetails/17832\n",
       "53051  https://sjp.moj.gov.sa/Filter/AhkamDetails/17857\n",
       "53052  https://sjp.moj.gov.sa/Filter/AhkamDetails/17870\n",
       "53053  https://sjp.moj.gov.sa/Filter/AhkamDetails/17443\n",
       "\n",
       "[8200 rows x 1 columns]"
      ]
     },
     "execution_count": 55,
     "metadata": {},
     "output_type": "execute_result"
    }
   ],
   "source": [
    "filtered_df"
   ]
  },
  {
   "cell_type": "code",
   "execution_count": 56,
   "id": "7e6d4576",
   "metadata": {},
   "outputs": [],
   "source": [
    "filtered_df.to_csv('cleaned_rent_links.csv', index=False)"
   ]
  }
 ],
 "metadata": {
  "kernelspec": {
   "display_name": "Python 3",
   "language": "python",
   "name": "python3"
  },
  "language_info": {
   "codemirror_mode": {
    "name": "ipython",
    "version": 3
   },
   "file_extension": ".py",
   "mimetype": "text/x-python",
   "name": "python",
   "nbconvert_exporter": "python",
   "pygments_lexer": "ipython3",
   "version": "3.10.11"
  }
 },
 "nbformat": 4,
 "nbformat_minor": 5
}
