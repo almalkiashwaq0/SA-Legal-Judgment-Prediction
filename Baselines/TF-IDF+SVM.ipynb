{
 "cells": [
  {
   "cell_type": "code",
   "execution_count": 7,
   "metadata": {},
   "outputs": [],
   "source": [
    "import pandas as pd\n",
    "import arabic_reshaper\n",
    "from sklearn.pipeline import Pipeline\n",
    "from sklearn.feature_extraction.text import TfidfVectorizer\n",
    "from sklearn.svm import SVC\n",
    "from sklearn.model_selection import GridSearchCV, train_test_split\n",
    "from sklearn.metrics import classification_report, confusion_matrix\n",
    "import re\n",
    "import matplotlib.pyplot as plt\n",
    "import seaborn as sns\n",
    "from sklearn.preprocessing import LabelEncoder"
   ]
  },
  {
   "cell_type": "code",
   "execution_count": null,
   "metadata": {},
   "outputs": [
    {
     "data": {
      "text/html": [
       "<div>\n",
       "<style scoped>\n",
       "    .dataframe tbody tr th:only-of-type {\n",
       "        vertical-align: middle;\n",
       "    }\n",
       "\n",
       "    .dataframe tbody tr th {\n",
       "        vertical-align: top;\n",
       "    }\n",
       "\n",
       "    .dataframe thead th {\n",
       "        text-align: right;\n",
       "    }\n",
       "</style>\n",
       "<table border=\"1\" class=\"dataframe\">\n",
       "  <thead>\n",
       "    <tr style=\"text-align: right;\">\n",
       "      <th></th>\n",
       "      <th>Number</th>\n",
       "      <th>Date</th>\n",
       "      <th>City</th>\n",
       "      <th>Facts</th>\n",
       "      <th>Reasons</th>\n",
       "      <th>Judgment</th>\n",
       "      <th>Type</th>\n",
       "      <th>Label</th>\n",
       "    </tr>\n",
       "  </thead>\n",
       "  <tbody>\n",
       "    <tr>\n",
       "      <th>0</th>\n",
       "      <td>٥٧١</td>\n",
       "      <td>١٠/٥/١٤٤٠</td>\n",
       "      <td>المدينة المنورة</td>\n",
       "      <td>تتلخص وقائع هذه الدعوى في أنه تقدم إلى المحكمة...</td>\n",
       "      <td>وحيث إن الواجب بحث الاختصاص القضائي قبل الخوض ...</td>\n",
       "      <td>أمين السرأيمن بن عبد العزيز الصبحي عضو إبراهيم...</td>\n",
       "      <td>الاجاره</td>\n",
       "      <td>مرفوضه</td>\n",
       "    </tr>\n",
       "    <tr>\n",
       "      <th>1</th>\n",
       "      <td>٤٥٣٠٠٩١٤٨٧</td>\n",
       "      <td>٢٨/٧/١٤٤٤</td>\n",
       "      <td>الدمام</td>\n",
       "      <td>تتلخص وقائع هذه الدعوى بالقدر اللازم لإصدار هذ...</td>\n",
       "      <td>لما كان النزاع بين المدعية والمدعى عليها ناشئ ...</td>\n",
       "      <td>حكمت الدائرة بما يلي : أولا / عدم جواز نظر طلب...</td>\n",
       "      <td>البيع</td>\n",
       "      <td>مرفوضه</td>\n",
       "    </tr>\n",
       "    <tr>\n",
       "      <th>2</th>\n",
       "      <td>٤٦٣٠٠٦٦٣٤٣</td>\n",
       "      <td>٢٢/١/١٤٤٦</td>\n",
       "      <td>جدة</td>\n",
       "      <td>تتلخص وقائع الدعوى بالقدر اللازم لإصدار الحكم ...</td>\n",
       "      <td>فبناء على ما تقدم ؛ وبما أن الدائرة تختص في نظ...</td>\n",
       "      <td>قررت الدائرة : قبول الطلب المدعي : ، وسماع شها...</td>\n",
       "      <td>الاجاره</td>\n",
       "      <td>مقبوله</td>\n",
       "    </tr>\n",
       "    <tr>\n",
       "      <th>3</th>\n",
       "      <td>٤٤٣٠٥٢٩٣٠٤</td>\n",
       "      <td>٥/٧/١٤٤٤</td>\n",
       "      <td>منطقة مكة المكرمة</td>\n",
       "      <td>تتلخص وقائع هذه الدعوى في أن المدعي يطلب إيداع...</td>\n",
       "      <td>وحيث اطلعت الدائرة على مرفقات القضية وحكم التح...</td>\n",
       "      <td>حكمت الدائرة : بقبول طلب إيداع حكم التحكيم الص...</td>\n",
       "      <td>البيع</td>\n",
       "      <td>مقبوله</td>\n",
       "    </tr>\n",
       "    <tr>\n",
       "      <th>4</th>\n",
       "      <td>١٧٥٨٤</td>\n",
       "      <td>٢٦/١٠/١٤٤١</td>\n",
       "      <td>الدمام</td>\n",
       "      <td>فقد ورد للدائرة قرار دائرة الاستئناف التجارية ...</td>\n",
       "      <td>بالاطلاع على ما ذكر تبين أن الدائرة أجابت عليه...</td>\n",
       "      <td>قررت الدائرة : إحالة القضية إلى دوائر الاستئنا...</td>\n",
       "      <td>البيع</td>\n",
       "      <td>مرفوضه</td>\n",
       "    </tr>\n",
       "    <tr>\n",
       "      <th>...</th>\n",
       "      <td>...</td>\n",
       "      <td>...</td>\n",
       "      <td>...</td>\n",
       "      <td>...</td>\n",
       "      <td>...</td>\n",
       "      <td>...</td>\n",
       "      <td>...</td>\n",
       "      <td>...</td>\n",
       "    </tr>\n",
       "    <tr>\n",
       "      <th>19817</th>\n",
       "      <td>٢٢٤٤/٣/ق</td>\n",
       "      <td>٢/٨/١٤٣٩</td>\n",
       "      <td>الدمام</td>\n",
       "      <td>تتحصل وقائع هذه القضية بالقدر اللازم لإصدار هذ...</td>\n",
       "      <td>وبعد سماع الدعوى والإجابة ، والاطلاع على أوراق...</td>\n",
       "      <td>برفض الدعوى المقامة من المدعي / (...) – هوية و...</td>\n",
       "      <td>نظر الدعوى</td>\n",
       "      <td>مرفوضه</td>\n",
       "    </tr>\n",
       "    <tr>\n",
       "      <th>19818</th>\n",
       "      <td>١٤٤٨٧/٣/ق</td>\n",
       "      <td>٤ / ٣ / ١٤٣٩</td>\n",
       "      <td>الدمام</td>\n",
       "      <td>تتحصل وقائع هذه الدعوى بالقدر اللازم لإصدار هذ...</td>\n",
       "      <td>وبعد سماع الدعوى والإجابة ، والاطلاع على أوراق...</td>\n",
       "      <td>) بإلزام (...) ويحمل الهوية الوطنية رقم (...) ...</td>\n",
       "      <td>نظر الدعوى</td>\n",
       "      <td>مقبوله</td>\n",
       "    </tr>\n",
       "    <tr>\n",
       "      <th>19819</th>\n",
       "      <td>١٧٧٢٠</td>\n",
       "      <td>٢٥ / ٢ / ١٤٣٩</td>\n",
       "      <td>الدمام</td>\n",
       "      <td>تتحصل وقائع هذه الدعوى بالقدر اللازم لإصدار ال...</td>\n",
       "      <td>وبعد سماع الدعوى والاطلاع على أوراق القضية ومس...</td>\n",
       "      <td>: بإلزام المدعى عليها / (...)- هوية وطنية (......</td>\n",
       "      <td>نظر الدعوى</td>\n",
       "      <td>مقبوله</td>\n",
       "    </tr>\n",
       "    <tr>\n",
       "      <th>19820</th>\n",
       "      <td>٩٦١٦/٣/ق</td>\n",
       "      <td>١٣ / ١ / ١٤٣٩</td>\n",
       "      <td>الدمام</td>\n",
       "      <td>تتحصل وقائع هذه الدعوى حسبما تفحص الأوراق في أ...</td>\n",
       "      <td>بعد سماع الدعوى والاطلاع على أوراق القضية ومست...</td>\n",
       "      <td>غيابيا بإلزام المدعى عليها / شركة (...) العربي...</td>\n",
       "      <td>نظر الدعوى</td>\n",
       "      <td>مقبوله</td>\n",
       "    </tr>\n",
       "    <tr>\n",
       "      <th>19821</th>\n",
       "      <td>٩٩٥٣/٣/ق</td>\n",
       "      <td>١ / ٤ / ١٤٣٩</td>\n",
       "      <td>الدمام</td>\n",
       "      <td>تتحصل وقائع هذه القضية بالقدر اللازم لإصدار هذ...</td>\n",
       "      <td>وبعد سماع الدعوى والإجابة ، والاطلاع على أوراق...</td>\n",
       "      <td>إلزام المدعى عليه / (...) – هوية رقم (...) صاح...</td>\n",
       "      <td>نظر الدعوى</td>\n",
       "      <td>مقبوله</td>\n",
       "    </tr>\n",
       "  </tbody>\n",
       "</table>\n",
       "<p>19822 rows × 8 columns</p>\n",
       "</div>"
      ],
      "text/plain": [
       "           Number           Date               City  \\\n",
       "0             ٥٧١      ١٠/٥/١٤٤٠    المدينة المنورة   \n",
       "1      ٤٥٣٠٠٩١٤٨٧      ٢٨/٧/١٤٤٤             الدمام   \n",
       "2      ٤٦٣٠٠٦٦٣٤٣      ٢٢/١/١٤٤٦                جدة   \n",
       "3      ٤٤٣٠٥٢٩٣٠٤       ٥/٧/١٤٤٤  منطقة مكة المكرمة   \n",
       "4           ١٧٥٨٤     ٢٦/١٠/١٤٤١             الدمام   \n",
       "...           ...            ...                ...   \n",
       "19817    ٢٢٤٤/٣/ق       ٢/٨/١٤٣٩             الدمام   \n",
       "19818   ١٤٤٨٧/٣/ق   ٤ / ٣ / ١٤٣٩             الدمام   \n",
       "19819       ١٧٧٢٠  ٢٥ / ٢ / ١٤٣٩             الدمام   \n",
       "19820    ٩٦١٦/٣/ق  ١٣ / ١ / ١٤٣٩             الدمام   \n",
       "19821    ٩٩٥٣/٣/ق   ١ / ٤ / ١٤٣٩             الدمام   \n",
       "\n",
       "                                                   Facts  \\\n",
       "0      تتلخص وقائع هذه الدعوى في أنه تقدم إلى المحكمة...   \n",
       "1      تتلخص وقائع هذه الدعوى بالقدر اللازم لإصدار هذ...   \n",
       "2      تتلخص وقائع الدعوى بالقدر اللازم لإصدار الحكم ...   \n",
       "3      تتلخص وقائع هذه الدعوى في أن المدعي يطلب إيداع...   \n",
       "4      فقد ورد للدائرة قرار دائرة الاستئناف التجارية ...   \n",
       "...                                                  ...   \n",
       "19817  تتحصل وقائع هذه القضية بالقدر اللازم لإصدار هذ...   \n",
       "19818  تتحصل وقائع هذه الدعوى بالقدر اللازم لإصدار هذ...   \n",
       "19819  تتحصل وقائع هذه الدعوى بالقدر اللازم لإصدار ال...   \n",
       "19820  تتحصل وقائع هذه الدعوى حسبما تفحص الأوراق في أ...   \n",
       "19821  تتحصل وقائع هذه القضية بالقدر اللازم لإصدار هذ...   \n",
       "\n",
       "                                                 Reasons  \\\n",
       "0      وحيث إن الواجب بحث الاختصاص القضائي قبل الخوض ...   \n",
       "1      لما كان النزاع بين المدعية والمدعى عليها ناشئ ...   \n",
       "2      فبناء على ما تقدم ؛ وبما أن الدائرة تختص في نظ...   \n",
       "3      وحيث اطلعت الدائرة على مرفقات القضية وحكم التح...   \n",
       "4      بالاطلاع على ما ذكر تبين أن الدائرة أجابت عليه...   \n",
       "...                                                  ...   \n",
       "19817  وبعد سماع الدعوى والإجابة ، والاطلاع على أوراق...   \n",
       "19818  وبعد سماع الدعوى والإجابة ، والاطلاع على أوراق...   \n",
       "19819  وبعد سماع الدعوى والاطلاع على أوراق القضية ومس...   \n",
       "19820  بعد سماع الدعوى والاطلاع على أوراق القضية ومست...   \n",
       "19821  وبعد سماع الدعوى والإجابة ، والاطلاع على أوراق...   \n",
       "\n",
       "                                                Judgment        Type   Label  \n",
       "0      أمين السرأيمن بن عبد العزيز الصبحي عضو إبراهيم...     الاجاره  مرفوضه  \n",
       "1      حكمت الدائرة بما يلي : أولا / عدم جواز نظر طلب...       البيع  مرفوضه  \n",
       "2      قررت الدائرة : قبول الطلب المدعي : ، وسماع شها...     الاجاره  مقبوله  \n",
       "3      حكمت الدائرة : بقبول طلب إيداع حكم التحكيم الص...       البيع  مقبوله  \n",
       "4      قررت الدائرة : إحالة القضية إلى دوائر الاستئنا...       البيع  مرفوضه  \n",
       "...                                                  ...         ...     ...  \n",
       "19817  برفض الدعوى المقامة من المدعي / (...) – هوية و...  نظر الدعوى  مرفوضه  \n",
       "19818  ) بإلزام (...) ويحمل الهوية الوطنية رقم (...) ...  نظر الدعوى  مقبوله  \n",
       "19819  : بإلزام المدعى عليها / (...)- هوية وطنية (......  نظر الدعوى  مقبوله  \n",
       "19820  غيابيا بإلزام المدعى عليها / شركة (...) العربي...  نظر الدعوى  مقبوله  \n",
       "19821  إلزام المدعى عليه / (...) – هوية رقم (...) صاح...  نظر الدعوى  مقبوله  \n",
       "\n",
       "[19822 rows x 8 columns]"
      ]
     },
     "execution_count": 2,
     "metadata": {},
     "output_type": "execute_result"
    }
   ],
   "source": [
    "df = pd.read_csv(\"full_dataset.csv\")\n",
    "df"
   ]
  },
  {
   "cell_type": "code",
   "execution_count": 3,
   "metadata": {},
   "outputs": [
    {
     "data": {
      "text/plain": [
       "Label\n",
       "مرفوضه    9911\n",
       "مقبوله    9911\n",
       "Name: count, dtype: int64"
      ]
     },
     "execution_count": 3,
     "metadata": {},
     "output_type": "execute_result"
    }
   ],
   "source": [
    "df['Label'].value_counts()"
   ]
  },
  {
   "cell_type": "code",
   "execution_count": null,
   "metadata": {},
   "outputs": [],
   "source": [
    "def clean_arabic_text(text):\n",
    "\n",
    "    text = str(text)  \n",
    "    text = re.sub(r'[\\u064B-\\u065F]', '', text)  \n",
    "    text = re.sub(r'[^\\w\\s]', '', text)  \n",
    "    text = re.sub(r'[إأآا]', 'ا', text)  \n",
    "    text = re.sub(r'ة', 'ه', text)  \n",
    "    text = re.sub(r'ى', 'ي', text)  \n",
    "    text = re.sub(r'\\s+', ' ', text).strip() \n",
    "    return text"
   ]
  },
  {
   "cell_type": "code",
   "execution_count": null,
   "metadata": {},
   "outputs": [],
   "source": [
    "df['Cleaned_Facts'] = df['Facts'].apply(clean_arabic_text)"
   ]
  },
  {
   "cell_type": "code",
   "execution_count": 8,
   "metadata": {},
   "outputs": [],
   "source": [
    "encoder = LabelEncoder()\n",
    "df[\"Encoded_Label\"] = encoder.fit_transform(df[\"Label\"])"
   ]
  },
  {
   "cell_type": "code",
   "execution_count": 10,
   "metadata": {},
   "outputs": [],
   "source": [
    "X_train, X_test, y_train, y_test = train_test_split(df['Cleaned_Facts'], df['Encoded_Label'], test_size=0.2, random_state=42, stratify=df['Encoded_Label'])"
   ]
  },
  {
   "cell_type": "code",
   "execution_count": 11,
   "metadata": {},
   "outputs": [],
   "source": [
    "pipeline = Pipeline([\n",
    "    (\"tfidf\", TfidfVectorizer(max_features=5000, ngram_range=(1, 2))),\n",
    "    (\"clf\", SVC())\n",
    "])\n",
    "\n",
    "param_grid = {\n",
    "    \"clf__C\": [0.1, 1, 10, 100],\n",
    "    \"clf__kernel\": [\"linear\"]\n",
    "}"
   ]
  },
  {
   "cell_type": "code",
   "execution_count": 12,
   "metadata": {},
   "outputs": [
    {
     "name": "stdout",
     "output_type": "stream",
     "text": [
      "Fitting 5 folds for each of 4 candidates, totalling 20 fits\n",
      "Best parameters: {'clf__C': 1, 'clf__kernel': 'linear'}\n"
     ]
    }
   ],
   "source": [
    "grid = GridSearchCV(pipeline, param_grid, cv=5, n_jobs=1, verbose=1)\n",
    "grid.fit(X_train, y_train)\n",
    "\n",
    "print(\"Best parameters:\", grid.best_params_)"
   ]
  },
  {
   "cell_type": "code",
   "execution_count": null,
   "metadata": {},
   "outputs": [
    {
     "name": "stdout",
     "output_type": "stream",
     "text": [
      "\n",
      " Classification Report (Training):\n",
      "\n",
      "              precision    recall  f1-score   support\n",
      "\n",
      "           0       0.89      0.88      0.89      7928\n",
      "           1       0.88      0.89      0.89      7929\n",
      "\n",
      "    accuracy                           0.89     15857\n",
      "   macro avg       0.89      0.89      0.89     15857\n",
      "weighted avg       0.89      0.89      0.89     15857\n",
      "\n"
     ]
    },
    {
     "data": {
      "image/png": "[encoded data removed]",
      "text/plain": [
       "<Figure size 600x500 with 2 Axes>"
      ]
     },
     "metadata": {},
     "output_type": "display_data"
    },
    {
     "name": "stdout",
     "output_type": "stream",
     "text": [
      "\n",
      " Classification Report (Test):\n",
      "\n",
      "              precision    recall  f1-score   support\n",
      "\n",
      "           0       0.83      0.83      0.83      1983\n",
      "           1       0.83      0.83      0.83      1982\n",
      "\n",
      "    accuracy                           0.83      3965\n",
      "   macro avg       0.83      0.83      0.83      3965\n",
      "weighted avg       0.83      0.83      0.83      3965\n",
      "\n"
     ]
    },
    {
     "data": {
      "image/png": "[encoded data removed]",
      "text/plain": [
       "<Figure size 600x500 with 2 Axes>"
      ]
     },
     "metadata": {},
     "output_type": "display_data"
    }
   ],
   "source": [
    "labels = sorted(df[\"Encoded_Label\"].unique())\n",
    "\n",
    "y_train_pred = grid.predict(X_train)\n",
    "print(\"\\n Classification Report (Training):\\n\")\n",
    "print(classification_report(y_train, y_train_pred))\n",
    "\n",
    "cm_train = confusion_matrix(y_train, y_train_pred)\n",
    "plt.figure(figsize=(6, 5))\n",
    "sns.heatmap(cm_train, annot=True, fmt='d', cmap='Greens', xticklabels=labels, yticklabels=labels)\n",
    "plt.xlabel(\"Predicted Label\")\n",
    "plt.ylabel(\"True Label\")\n",
    "plt.title(\"Training Set Confusion Matrix\")\n",
    "plt.tight_layout()\n",
    "plt.show()\n",
    "\n",
    "\n",
    "y_test_pred = grid.predict(X_test)\n",
    "print(\"\\n Classification Report (Test):\\n\")\n",
    "print(classification_report(y_test, y_test_pred))\n",
    "\n",
    "cm_test = confusion_matrix(y_test, y_test_pred)\n",
    "plt.figure(figsize=(6, 5))\n",
    "sns.heatmap(cm_test, annot=True, fmt='d', cmap='Blues', xticklabels=labels, yticklabels=labels)\n",
    "plt.xlabel(\"Predicted Label\")\n",
    "plt.ylabel(\"True Label\")\n",
    "plt.title(\"Test Set Confusion Matrix\")\n",
    "plt.tight_layout()\n",
    "plt.show()"
   ]
  },
  {
   "cell_type": "code",
   "execution_count": null,
   "metadata": {},
   "outputs": [
    {
     "name": "stdout",
     "output_type": "stream",
     "text": [
      "\n",
      "Weighted Metrics (Test Set):\n",
      "Accuracy : 0.8298\n",
      "F1 Score : 0.8298\n",
      "Precision: 0.8298\n",
      "Recall   : 0.8298\n"
     ]
    }
   ],
   "source": [
    "accuracy = accuracy_score(y_test, y_test_pred)\n",
    "f1 = f1_score(y_test, y_test_pred, average=\"weighted\")\n",
    "precision = precision_score(y_test, y_test_pred, average=\"weighted\")\n",
    "recall = recall_score(y_test, y_test_pred, average=\"weighted\")\n",
    "\n",
    "print(\"\\nWeighted Metrics (Test Set):\")\n",
    "print(f\"Accuracy : {accuracy:.4f}\")\n",
    "print(f\"F1 Score : {f1:.4f}\")\n",
    "print(f\"Precision: {precision:.4f}\")\n",
    "print(f\"Recall   : {recall:.4f}\")\n"
   ]
  }
 ],
 "metadata": {
  "kernelspec": {
   "display_name": "Python 3",
   "language": "python",
   "name": "python3"
  },
  "language_info": {
   "codemirror_mode": {
    "name": "ipython",
    "version": 3
   },
   "file_extension": ".py",
   "mimetype": "text/x-python",
   "name": "python",
   "nbconvert_exporter": "python",
   "pygments_lexer": "ipython3",
   "version": "3.10.11"
  }
 },
 "nbformat": 4,
 "nbformat_minor": 2
}
